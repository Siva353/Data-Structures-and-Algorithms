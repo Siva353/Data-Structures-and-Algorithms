{
 "cells": [
  {
   "cell_type": "code",
   "execution_count": 1,
   "id": "e59f723a",
   "metadata": {},
   "outputs": [
    {
     "name": "stdout",
     "output_type": "stream",
     "text": [
      "Duplicates are there in a given an array [1, 2, 4, 2, 5, 9]\n"
     ]
    }
   ],
   "source": [
    "# 1. Given an array, check if it contains any duplicates or not.\n",
    "# arr = [1, 2, 4, 2, 5, 9]\n",
    "# Output = True\n",
    "# Time complexity : O(1)\n",
    "# Space complexity : O(n)\n",
    "\n",
    "arr = [1,2,4,2,5,9] # element 2 is repeated in array and it is the duplicate element.\n",
    "my_arr = set(arr) # set() will remove the duplicates(element 2) and then length of my_arr is 5\n",
    "\n",
    "def check_duplicates(arr):\n",
    "    if len(arr)>len(my_arr): # len(arr) is 6 & len(my_arr) is 5.\n",
    "        print(\"Duplicates are there in a given an array\", arr)\n",
    "    else:\n",
    "        print(\"There is no duplicates in a given an array\", my_arr)\n",
    "        \n",
    "## Driver code\n",
    "arr = [1,2,4,2,5,9]\n",
    "# call the check_duplicates fun.\n",
    "check_duplicates(arr)"
   ]
  },
  {
   "cell_type": "code",
   "execution_count": 2,
   "id": "971fb0f2",
   "metadata": {},
   "outputs": [
    {
     "name": "stdout",
     "output_type": "stream",
     "text": [
      "[5, 6, 7, 1, 2, 3, 4]\n"
     ]
    }
   ],
   "source": [
    "# 2. Given an array and an integer k, rotate the array to the right by k steps.\n",
    "# arr = [1, 2, 3, 4, 5, 6, 7] k = 3\n",
    "# Output = [5, 6, 7, 1, 2, 3, 4]\n",
    "## Time complexity = O(n**2)\n",
    "## Space complexity = O(1)\n",
    "\n",
    "# Right Rotation In the right rotation, \n",
    "# the array elements rotated to the right with the specified number of positions. \n",
    "# It rotates the array in an anti-clockwise direction.\n",
    "\n",
    "def right_rotation(arr,k):\n",
    "    for i in range(0,k): ##(0,3) => 0<3,1<3,2<3.\n",
    "        # store the last variable in a temperory variable\n",
    "        t = arr[len(arr)-1] ## len(arr) = 7, len(arr-1) = 6, arr[6] = t\n",
    "        # take another for loop to shift the elements.\n",
    "        for j in range((len(arr)-1),0,-1): ##(6,0,-1)=> 6>0,5>0,4>0,3>0,2>0,1>0\n",
    "            arr[j] = arr[j-1]\n",
    "        arr[0] = t ## Every last element in each iteration to store in 0th index\n",
    "    return arr\n",
    "\n",
    "\n",
    "## Driver code\n",
    "arr = [1,2,3,4,5,6,7]\n",
    "k = 3\n",
    "rotated_arr = right_rotation(arr,k)\n",
    "print(rotated_arr)\n"
   ]
  },
  {
   "cell_type": "code",
   "execution_count": 3,
   "id": "9131e399",
   "metadata": {},
   "outputs": [
    {
     "name": "stdout",
     "output_type": "stream",
     "text": [
      "[12, 9, 7, 5, 4, 2]\n"
     ]
    }
   ],
   "source": [
    "# 3. Reverse the given array in-place, means without using any extra data structure.\n",
    "# arr = [2, 4, 5, 7, 9, 12]\n",
    "# Output = [12, 9, 7, 5, 4, 2]\n",
    "# Time complexity : O(1)\n",
    "# Space complexity : O(1)\n",
    "\n",
    "# By using index slicing method\n",
    "arr = [2,4,5,7,9,12]\n",
    "print(arr[::-1])"
   ]
  },
  {
   "cell_type": "code",
   "execution_count": 4,
   "id": "55c70854",
   "metadata": {},
   "outputs": [
    {
     "name": "stdout",
     "output_type": "stream",
     "text": [
      "Array is [2, 4, 5, 7, 9, 12]\n",
      "[12, 9, 7, 5, 4, 2]\n"
     ]
    }
   ],
   "source": [
    "# By using swap the elements\n",
    "# time complexity : O(n)\n",
    "# space complexity : O(1)\n",
    "\n",
    "arr = [2,4,5,7,9,12]\n",
    "print(\"Array is\", arr)\n",
    "n = len(arr)\n",
    "\n",
    "def Reverse_arr(arr):\n",
    "    for i in range(n//2): # n = 6 and range(0,3)=> 0,1,2\n",
    "        # you just need to swap the elements untill you reach the middle element\n",
    "        arr[i],arr[n-i-1] = arr[n-i-1],arr[i]\n",
    "    return arr\n",
    "\n",
    "print(Reverse_arr(arr))"
   ]
  },
  {
   "cell_type": "code",
   "execution_count": 5,
   "id": "49699779",
   "metadata": {},
   "outputs": [
    {
     "name": "stdout",
     "output_type": "stream",
     "text": [
      "Array is : [2, 4, 5, 7, 9, 12]\n",
      "Reversed array: [12, 9, 7, 5, 4, 2]\n"
     ]
    }
   ],
   "source": [
    "#The original array\n",
    "arr = [2, 4, 5, 7, 9, 12]\n",
    "print(\"Array is :\", arr)\n",
    "\n",
    "#reversing using a loop\n",
    "a = 0 #start index\n",
    "b = len(arr) - 1 #end index\n",
    "while a < b:\n",
    "    arr[a],arr[b] = arr[b],arr[a]\n",
    "    a += 1\n",
    "    b -= 1\n",
    "\n",
    "print(\"Reversed array:\", arr)"
   ]
  },
  {
   "cell_type": "code",
   "execution_count": 6,
   "id": "64746b35",
   "metadata": {},
   "outputs": [
    {
     "name": "stdout",
     "output_type": "stream",
     "text": [
      "start max: 10\n",
      "checking: 1\n",
      "checking: 2\n",
      "checking: 3\n",
      "checking: 4\n",
      "Maximum element in an arry is : 20\n"
     ]
    }
   ],
   "source": [
    "# 4. Given an array of integers, find the maximum element in an array\n",
    "# arr = [10, 5, 20, 8, 15]\n",
    "# Output = 20\n",
    "## time complexity : O(n)\n",
    "## space complexity : O(1)\n",
    "\n",
    "arr = [10,5,20,8,15]\n",
    "max_num = arr[0] # Initialize the maximum element with the first element\n",
    "print(\"start max:\", max_num)\n",
    "\n",
    "for i in range(1,len(arr)):\n",
    "    print(\"checking:\", i)\n",
    "    if arr[i] > max_num: # Compare each element with the current maximum\n",
    "        max_num = arr[i] # Update the maximum element if needed\n",
    "        \n",
    "print(\"Maximum element in an arry is :\", max_num)"
   ]
  },
  {
   "cell_type": "code",
   "execution_count": 7,
   "id": "19b1844f",
   "metadata": {},
   "outputs": [
    {
     "name": "stdout",
     "output_type": "stream",
     "text": [
      "start max: 10\n",
      "checking: 10\n",
      "checking: 5\n",
      "checking: 20\n",
      "checking: 8\n",
      "checking: 15\n",
      "Maximum element in an arry is : 20\n"
     ]
    }
   ],
   "source": [
    "arr = [10,5,20,8,15]\n",
    "max_num = arr[0] # Initialize the maximum element with the first element\n",
    "print(\"start max:\", max_num)\n",
    "\n",
    "for i in arr:\n",
    "    print(\"checking:\", i)\n",
    "    if i > max_num: # Compare each element with the current maximum\n",
    "        max_num = i # Update the maximum element if needed\n",
    "        \n",
    "print(\"Maximum element in an arry is :\", max_num)"
   ]
  },
  {
   "cell_type": "code",
   "execution_count": 8,
   "id": "fdd0b78c",
   "metadata": {},
   "outputs": [
    {
     "name": "stdout",
     "output_type": "stream",
     "text": [
      "Array is : [1, 1, 2, 2, 2, 3, 3, 4, 4, 4, 5, 5]\n",
      "Output is: [1, 2, 3, 4, 5]\n"
     ]
    }
   ],
   "source": [
    "# 5. Given a sorted array, remove the duplicate element without using any extra data structure.\n",
    "# arr = [1, 1, 2, 2, 2, 3, 3, 4, 4, 4, 5, 5]\n",
    "# Output = [1, 2, 3, 4, 5]\n",
    "## time complexity : O(n)\n",
    "## space complexity : O(1)\n",
    "# The original array\n",
    "arr = [1, 1, 2, 2, 2, 3, 3, 4, 4, 4, 5, 5]\n",
    "print(\"Array is :\", arr)\n",
    "\n",
    "#Removing the duplicates using a loop\n",
    "i = 0 #Initialize the index\n",
    "for j in range(1, len(arr)): # Loop over the array from the second element\n",
    "    if arr[j] != arr[i]: # Compare each element with the previous one\n",
    "        i += 1 # Increment the index\n",
    "        arr[i] = arr[j] # Copy the unique element to the next position\n",
    "\n",
    "#The output array is the slice of the original array from 0 to i\n",
    "output = arr[:i+1]\n",
    "print(\"Output is:\", output)"
   ]
  },
  {
   "cell_type": "code",
   "execution_count": 9,
   "id": "0dbc607d",
   "metadata": {},
   "outputs": [
    {
     "name": "stdout",
     "output_type": "stream",
     "text": [
      "Array is : [1, 1, 2, 2, 2, 3, 3, 4, 4, 4, 5, 5]\n",
      "[1, 2, 3, 4, 5]\n"
     ]
    }
   ],
   "source": [
    "arr = [1, 1, 2, 2, 2, 3, 3, 4, 4, 4, 5, 5]\n",
    "print(\"Array is :\", arr)\n",
    "\n",
    "def Remove_duplicates(arr):\n",
    "    no_duplicates_arr = [] # create an empty arr to store the elements\n",
    "    for i in arr:\n",
    "        if i not in no_duplicates_arr: # check the i value in no_duplicates_arr\n",
    "            no_duplicates_arr.append(i) # if i is not there in no_duplicates_arr then append the i in no_duplicates_arr\n",
    "    return no_duplicates_arr\n",
    "\n",
    "print(Remove_duplicates(arr))"
   ]
  },
  {
   "cell_type": "code",
   "execution_count": 10,
   "id": "c480264a",
   "metadata": {},
   "outputs": [
    {
     "name": "stdout",
     "output_type": "stream",
     "text": [
      "257\n"
     ]
    }
   ],
   "source": [
    "## Method definition of the sum function\n",
    "## Time complexity : O(n)\n",
    "## Space complexity: O(1)\n",
    "\n",
    "def summation(arr):\n",
    "    n = len(arr)\n",
    "    sum_value = 0\n",
    "    for i in range(n):\n",
    "        sum_value += arr[i]\n",
    "    return sum_value\n",
    "\n",
    "## Driver code\n",
    "arr = [23,34,64,12,56,68]\n",
    "result = summation(arr)\n",
    "print(result)"
   ]
  },
  {
   "cell_type": "code",
   "execution_count": 11,
   "id": "f16472aa",
   "metadata": {},
   "outputs": [],
   "source": [
    "# built in function you discussed in the list session are available here as weill\n",
    "arr = [23,34,56,78,89]\n",
    "arr.insert(1,24)"
   ]
  },
  {
   "cell_type": "code",
   "execution_count": 12,
   "id": "1f179b71",
   "metadata": {},
   "outputs": [
    {
     "data": {
      "text/plain": [
       "[23, 24, 34, 56, 78, 89]"
      ]
     },
     "execution_count": 12,
     "metadata": {},
     "output_type": "execute_result"
    }
   ],
   "source": [
    "arr"
   ]
  },
  {
   "cell_type": "code",
   "execution_count": 13,
   "id": "2eb1c2e7",
   "metadata": {},
   "outputs": [],
   "source": [
    "arr.remove(24)"
   ]
  },
  {
   "cell_type": "code",
   "execution_count": 14,
   "id": "fba812df",
   "metadata": {},
   "outputs": [
    {
     "name": "stdout",
     "output_type": "stream",
     "text": [
      "-1\n"
     ]
    }
   ],
   "source": [
    "## Searching Alogrithms\n",
    "## Time Complexity : O(n)\n",
    "## Space Complexity : O(1)\n",
    "\n",
    "def linearSearch(arr, target):\n",
    "    for i in range(len(arr)):\n",
    "        if arr[i] == target:\n",
    "            return i\n",
    "    # in case element is not available in array\n",
    "    return -1\n",
    "\n",
    "## print -1 [it indicates that the target values is not available in the array]\n",
    "## Driver code\n",
    "arr = [12,14,16,18,11,22,26,29]\n",
    "target = 30\n",
    "result = linearSearch(arr, target)\n",
    "print(result)"
   ]
  },
  {
   "cell_type": "code",
   "execution_count": 15,
   "id": "2120f950",
   "metadata": {},
   "outputs": [
    {
     "name": "stdout",
     "output_type": "stream",
     "text": [
      "([2, 18, 22], [5, 11, 13, 15])\n"
     ]
    }
   ],
   "source": [
    "## arr = [2,5,11,13,15,18,22]\n",
    "## even and odd containing even num and odd num\n",
    "## time complexity : O(n)\n",
    "## space complexity : O(n)\n",
    "\n",
    "# creating an external data structure[list] to store the even and odd values\n",
    "even = []\n",
    "odd = []\n",
    "\n",
    "def evenAndodd(arr):\n",
    "    for i in arr:\n",
    "        if i%2 == 0:\n",
    "            even.append(i)\n",
    "        else:\n",
    "            odd.append(i)\n",
    "    return even, odd\n",
    "\n",
    "## Driver code\n",
    "arr = [2,5,11,13,15,18,22]\n",
    "result = evenAndodd(arr)\n",
    "print(result)"
   ]
  },
  {
   "cell_type": "code",
   "execution_count": 16,
   "id": "025902e6",
   "metadata": {},
   "outputs": [
    {
     "name": "stdout",
     "output_type": "stream",
     "text": [
      "Primary Diagonal Sum : 32\n",
      "Secondary Diagonal Sum : 31\n"
     ]
    }
   ],
   "source": [
    "## function definitiom\n",
    "\n",
    "def printDiagonalSum(arr):\n",
    "    n = len(arr)\n",
    "    primaryDiagonalSum = 0\n",
    "    secondaryDiagonalSum = 0\n",
    "    for i in range(n):\n",
    "        for j in range(n):\n",
    "            ## condition to get the element of primary diagonal\n",
    "            if i == j:\n",
    "                primaryDiagonalSum += arr[i][j]\n",
    "                \n",
    "            ## condition to get the element of secondary diagonal \n",
    "            if ((i+j) == (n-1)):\n",
    "                secondaryDiagonalSum += arr[i][j]\n",
    "    print(\"Primary Diagonal Sum :\", primaryDiagonalSum)\n",
    "    print(\"Secondary Diagonal Sum :\", secondaryDiagonalSum)            \n",
    "\n",
    "\n",
    "## Driver code\n",
    "arr = [[2,4,6],[8,11,13],[14,17,19]]\n",
    "n = 3\n",
    "printDiagonalSum(arr)"
   ]
  }
 ],
 "metadata": {
  "kernelspec": {
   "display_name": "Python 3 (ipykernel)",
   "language": "python",
   "name": "python3"
  },
  "language_info": {
   "codemirror_mode": {
    "name": "ipython",
    "version": 3
   },
   "file_extension": ".py",
   "mimetype": "text/x-python",
   "name": "python",
   "nbconvert_exporter": "python",
   "pygments_lexer": "ipython3",
   "version": "3.9.13"
  }
 },
 "nbformat": 4,
 "nbformat_minor": 5
}
