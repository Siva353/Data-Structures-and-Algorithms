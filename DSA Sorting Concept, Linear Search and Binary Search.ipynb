{
 "cells": [
  {
   "cell_type": "code",
   "execution_count": 1,
   "id": "13aaf948",
   "metadata": {},
   "outputs": [
    {
     "name": "stdout",
     "output_type": "stream",
     "text": [
      "[1, 2, 3, 4, 5]\n"
     ]
    }
   ],
   "source": [
    "# Sorting : arrange the data into ascending order or arrangement of data in a certain order.\n",
    "# Three(3) Basic Sorting Algorithms;\n",
    "# 1. Bubble sort -> stable sort\n",
    "# 2. Selection sort -> unstable sort\n",
    "# 3. Insertion sort -> stable sort\n",
    "\n",
    "# 1. Bubble sort:\n",
    "# -> It is repeatedly compares two adjacent elements & swaps them if they're in wrong order.\n",
    "# -> It is also known as the sinking sort.\n",
    "# -> It has time complexity of O(n**2) => wrost and average cases.\n",
    "# -> O(n) in the best case.\n",
    "# -> Array all elements are equal then => O(n)\n",
    "# -> Swaps => n**2\n",
    "## Method definition\n",
    "def bubbleSort(arr):\n",
    "    for i in range(len(arr)-1, 0 ,-1): # i starts from last element in array\n",
    "        for j in range(i): # j starts from starting of the element\n",
    "            if arr[j]>arr[j+1]: # check the condition\n",
    "                arr[j],arr[j+1] = arr[j+1],arr[j] # swap the elements\n",
    "    \n",
    "## Driver code\n",
    "arr = [4,2,3,1,5]\n",
    "bubbleSort(arr)\n",
    "print(arr)"
   ]
  },
  {
   "cell_type": "code",
   "execution_count": 2,
   "id": "e2f0fc0c",
   "metadata": {},
   "outputs": [
    {
     "name": "stdout",
     "output_type": "stream",
     "text": [
      "Sorted array: [1, 2, 3, 4, 5]\n"
     ]
    }
   ],
   "source": [
    "# The best optinized solution for all time complexity cases.\n",
    "## Method definition\n",
    "def BubbleSortOptimized(arr):\n",
    "    for i in range(len(arr)-1, 0 ,-1):\n",
    "        is_sorted = True\n",
    "        for j in range(i):\n",
    "            if arr[j] > arr[j+1]:\n",
    "                is_sorted = False\n",
    "                arr[j],arr[j+1] = arr[j+1],arr[j]\n",
    "        if is_sorted:\n",
    "            break\n",
    "            print(\"Array is already sorted\")\n",
    "            \n",
    "## Driver code\n",
    "arr = [1,4,2,3,5]\n",
    "BubbleSortOptimized(arr)\n",
    "print(\"Sorted array:\", arr)"
   ]
  },
  {
   "cell_type": "code",
   "execution_count": 3,
   "id": "709321cf",
   "metadata": {},
   "outputs": [
    {
     "name": "stdout",
     "output_type": "stream",
     "text": [
      "Array is sorted\n"
     ]
    }
   ],
   "source": [
    "def isSorted(arr):\n",
    "    isSorted = True\n",
    "    for i in range(len(arr)-1):\n",
    "        if arr[i]>arr[i+1]:\n",
    "            isSorted = False\n",
    "            break\n",
    "    if isSorted:\n",
    "        print(\"Array is sorted\")\n",
    "    else:\n",
    "        print(\"Array is not sorted\")\n",
    "        \n",
    "## Driver code\n",
    "arr = [1,2,3,4,5]\n",
    "isSorted(arr)\n",
    "        "
   ]
  },
  {
   "cell_type": "code",
   "execution_count": 4,
   "id": "d9bfbb18",
   "metadata": {},
   "outputs": [
    {
     "name": "stdout",
     "output_type": "stream",
     "text": [
      "Sorted array: [1, 2, 3, 4, 5]\n"
     ]
    }
   ],
   "source": [
    "# 2. Selection sort : => it is unstable sort\n",
    "#selecting the smallest or largest element from the unsorted portion of the list and moving it to sorted portion of the list\n",
    "# -> It has time complexity of O(n**2)\n",
    "# -> Swaps => n\n",
    "# Selection sort is bette than Bubble sort in terms of performance\n",
    "## Method of definition\n",
    "def SelectionSort(arr):\n",
    "    for i in range(len(arr)):\n",
    "        min = i\n",
    "        for j in range(i+1,len(arr)):\n",
    "            if arr[j] < arr[min]:\n",
    "                min = j\n",
    "        # Find the smallest value\n",
    "        arr[i],arr[min] = arr[min], arr[i]\n",
    "        \n",
    "## Driver code\n",
    "arr = [5,3,1,4,2]\n",
    "SelectionSort(arr)\n",
    "print(\"Sorted array:\", arr)"
   ]
  },
  {
   "cell_type": "code",
   "execution_count": 6,
   "id": "2e54296c",
   "metadata": {},
   "outputs": [
    {
     "name": "stdout",
     "output_type": "stream",
     "text": [
      "Sorted array: [1, 2, 3, 4, 5]\n"
     ]
    }
   ],
   "source": [
    "# 3. Insertion sort: \n",
    "# -> it is also called online sort\n",
    "# arr = [sorted part | unsorted part]\n",
    "# -> it is a stable sort\n",
    "# -> It has time complexity of O(n**2) => wrost and average cases.\n",
    "# -> Above cases occurs when the input array is in unsorted.\n",
    "# -> In the best case, when the input array is already sorted, the time complexity is O(n)\n",
    "# -> swaps = n**2\n",
    "## Method definition\n",
    "def insertion_sort(arr):\n",
    "    for i in range(1, len(arr)):# i in unsoretd part(1,2,3,4) indexes\n",
    "        j = i # Index i = j\n",
    "        # Check the inner loop condition\n",
    "        while (arr[j-1]>arr[j] and j>0): # considering 0 index is sorted\n",
    "            # swap the elements\n",
    "            arr[j-1],arr[j] = arr[j],arr[j-1]\n",
    "            # Decrement the index j\n",
    "            j -= 1\n",
    "    return arr\n",
    "            \n",
    "            \n",
    "## Driver code\n",
    "arr = [3,5,2,1,4]\n",
    "insertion_sort(arr)\n",
    "print(\"Sorted array:\", arr)"
   ]
  },
  {
   "cell_type": "code",
   "execution_count": 8,
   "id": "21009597",
   "metadata": {},
   "outputs": [
    {
     "name": "stdout",
     "output_type": "stream",
     "text": [
      "-1\n"
     ]
    }
   ],
   "source": [
    "## Linear search:\n",
    "# Start from the first element of the list.\n",
    "# Compare the current element with the value you’re searching for.\n",
    "# If it matches, return the index of the element.\n",
    "# If it doesn’t match, move to the next element.\n",
    "# Repeat steps 2-4 until you find the match or reach the end of the list.\n",
    "\n",
    "# The time complexity of linear search is:\n",
    "# Best Case: O(1)\n",
    "# => (when the element is found at the first position)\n",
    "# Average Case: O(n)\n",
    "# => (where n is the number of elements in the list)\n",
    "# Worst Case: O(n)\n",
    "# => (when the element is not present in the list)\n",
    "\n",
    "## Method definition\n",
    "def search(arr,num):\n",
    "    for i in range(len(arr)):\n",
    "        if arr[i] == num:\n",
    "            return i\n",
    "    return -1 # if it is not there in the given array then return -1\n",
    "\n",
    "## Driver code\n",
    "arr = [5,4,2,7,8,20,25]\n",
    "num = 3\n",
    "print(search(arr,num))"
   ]
  },
  {
   "cell_type": "code",
   "execution_count": 12,
   "id": "cffd55a1",
   "metadata": {},
   "outputs": [
    {
     "name": "stdout",
     "output_type": "stream",
     "text": [
      "1\n"
     ]
    }
   ],
   "source": [
    "## Binary Search:\n",
    "# -> Data should be sorted already.\n",
    "# Here’s the basic idea of how binary search works:\n",
    "# 1. Find the middle element of the array.\n",
    "# 2. If the middle element is equal to the target value, the search is complete.\n",
    "# 3. If the target value is less than the middle element, repeat the search for the left half of the array.\n",
    "# 4. If the target value is greater than the middle element, repeat the search for the right half of the array.\n",
    "# 5. Continue this process until the target value is found or the sub-array reduces to zero size.\n",
    "# Time complexity : O(log n)\n",
    "\n",
    "## Method definition\n",
    "def binarySearch(arr, num):\n",
    "    left = 0\n",
    "    right = len(arr)-1\n",
    "    while left <= right:\n",
    "        # mid(index) = (left + right)/2 => it is taking more space\n",
    "        mid = int(left + (right - left)/2) # It is taking less space\n",
    "        if arr[mid] == num:\n",
    "            return mid\n",
    "        elif arr[mid] > num:\n",
    "            right = mid - 1\n",
    "        else:\n",
    "            left = mid + 1\n",
    "    return -1\n",
    "\n",
    "## Driver code\n",
    "arr = [2,4,8,10,16]\n",
    "num = 4\n",
    "print(binarySearch(arr, num)) # o/p is in inedx"
   ]
  },
  {
   "cell_type": "code",
   "execution_count": null,
   "id": "0983df00",
   "metadata": {},
   "outputs": [],
   "source": []
  },
  {
   "cell_type": "code",
   "execution_count": null,
   "id": "935639f1",
   "metadata": {},
   "outputs": [],
   "source": []
  }
 ],
 "metadata": {
  "kernelspec": {
   "display_name": "Python 3 (ipykernel)",
   "language": "python",
   "name": "python3"
  },
  "language_info": {
   "codemirror_mode": {
    "name": "ipython",
    "version": 3
   },
   "file_extension": ".py",
   "mimetype": "text/x-python",
   "name": "python",
   "nbconvert_exporter": "python",
   "pygments_lexer": "ipython3",
   "version": "3.9.13"
  }
 },
 "nbformat": 4,
 "nbformat_minor": 5
}
